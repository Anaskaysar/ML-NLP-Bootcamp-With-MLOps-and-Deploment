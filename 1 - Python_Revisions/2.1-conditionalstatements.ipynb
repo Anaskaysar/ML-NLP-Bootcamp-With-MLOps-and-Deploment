{
 "cells": [
  {
   "cell_type": "code",
   "execution_count": null,
   "metadata": {},
   "outputs": [],
   "source": [
    "## if statement\n",
    "\n",
    "age = 18\n",
    "\n",
    "if age>=18:\n",
    "    print(\"You can vote\")"
   ]
  },
  {
   "cell_type": "code",
   "execution_count": 7,
   "metadata": {},
   "outputs": [
    {
     "name": "stdout",
     "output_type": "stream",
     "text": [
      "2024 is a leap year\n"
     ]
    }
   ],
   "source": [
    "## Practical Examples 1\n",
    "\n",
    "## Determine a year is leap year\n",
    "\n",
    "\n",
    "year = int(input(\"Enter a year to check leap year or not: \"))\n",
    "\n",
    "if (year%4==0):\n",
    "    if (year%100==0):\n",
    "        if (year%400==0):\n",
    "            print(year, \"Leap year\")\n",
    "        else:\n",
    "            print(year, \"Not Leap Year\")\n",
    "    else:\n",
    "        print(year, \"is a leap year\")\n",
    "else:\n",
    "    print(year, \"Not a leap year\")"
   ]
  },
  {
   "cell_type": "code",
   "execution_count": 10,
   "metadata": {},
   "outputs": [
    {
     "name": "stdout",
     "output_type": "stream",
     "text": [
      "The result is :  2.5\n"
     ]
    }
   ],
   "source": [
    "## Practical Examples 2\n",
    "## Simple calculator program\n",
    "\n",
    "input1 = int(input(\"Enter your First Number: \")) \n",
    "input2 = int(input(\"Enter your Second Number: \")) \n",
    "input3 = input(\"Enter the operation (+ , - , * , /): \")\n",
    "\n",
    "\n",
    "if (input3== '+'):\n",
    "    print(\"The result is : \", input1 + input2)\n",
    "elif (input3== '-'):\n",
    "    print(\"The result is : \", input1 - input2)\n",
    "elif (input3== '*'):\n",
    "    print(\"The result is : \", input1 * input2)\n",
    "elif (input3== '/'):\n",
    "    if input2!= 0:\n",
    "        print(\"The result is : \", input1 / input2)\n",
    "    else:\n",
    "        print(\"Invaid Operation (Infinity)\")\n",
    "else:\n",
    "    print(\"Operation not valid\")"
   ]
  },
  {
   "cell_type": "code",
   "execution_count": null,
   "metadata": {},
   "outputs": [],
   "source": [
    "### Determine the ticket price based on age and whether the perosn is a student\n",
    "\n",
    "## Ticket pricing based on age and student\n",
    "\n",
    "age = int(input(\"Enter your age: \")) \n",
    "is_studnt = int(input(\"Are you a student (yes / no):  \")).lower()\n",
    "\n",
    "if age<5:\n",
    "    price = 'Free'\n",
    "\n",
    "elif age>5 and age<=12:\n",
    "    price = \"10$\"\n",
    "\n",
    "elif age>12 and age<=17:\n",
    "    if is_studnt == 'yes':\n",
    "       price = '10$'\n",
    "    else:\n",
    "        price = '12$'\n",
    "else : \n",
    "    price= '18$'\n",
    "\n",
    "\n"
   ]
  }
 ],
 "metadata": {
  "kernelspec": {
   "display_name": "Python 3",
   "language": "python",
   "name": "python3"
  },
  "language_info": {
   "codemirror_mode": {
    "name": "ipython",
    "version": 3
   },
   "file_extension": ".py",
   "mimetype": "text/x-python",
   "name": "python",
   "nbconvert_exporter": "python",
   "pygments_lexer": "ipython3",
   "version": "3.12.0"
  },
  "orig_nbformat": 4
 },
 "nbformat": 4,
 "nbformat_minor": 2
}
